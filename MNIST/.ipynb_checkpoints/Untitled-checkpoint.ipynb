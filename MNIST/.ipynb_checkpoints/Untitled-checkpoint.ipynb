{
 "cells": [
  {
   "cell_type": "code",
   "execution_count": 22,
   "id": "enclosed-stable",
   "metadata": {},
   "outputs": [],
   "source": [
    "import numpy as np\n",
    "import scipy.io as sio\n",
    "import matplotlib.pyplot as plt\n",
    "from matplotlib import gridspec\n",
    "import pickle\n",
    "import time\n",
    "import random\n",
    "from convnet import *\n",
    "from remtime import *"
   ]
  },
  {
   "cell_type": "code",
   "execution_count": 23,
   "id": "accurate-probability",
   "metadata": {},
   "outputs": [],
   "source": [
    "## Hyperparameters\n",
    "NUM_OUTPUT = 10\n",
    "LEARNING_RATE = 0.01\t#learning rate\n",
    "IMG_WIDTH = 28\n",
    "IMG_DEPTH = 1\n",
    "FILTER_SIZE=5\n",
    "NUM_FILT1 = 8\n",
    "NUM_FILT2 = 8\n",
    "BATCH_SIZE = 1\n",
    "NUM_EPOCHS = 2\t # number of iterations\n",
    "MU = 0.95\n",
    "\n",
    "PICKLE_FILE = 'output.pickle'\n",
    "# PICKLE_FILE = 'trained.pickle'"
   ]
  },
  {
   "cell_type": "code",
   "execution_count": 24,
   "id": "owned-lover",
   "metadata": {},
   "outputs": [
    {
     "name": "stdout",
     "output_type": "stream",
     "text": [
      "('Extracting', 't10k-images-idx3-ubyte.gz')\n",
      "('Extracting', 't10k-labels-idx1-ubyte.gz')\n",
      "('Extracting', 'train-images-idx3-ubyte.gz')\n",
      "('Extracting', 'train-labels-idx1-ubyte.gz')\n",
      "33.395157 78.66619\n"
     ]
    }
   ],
   "source": [
    "## Data extracting\n",
    "m =10000\n",
    "X = extract_data('t10k-images-idx3-ubyte.gz', m, IMG_WIDTH)\n",
    "y_dash = extract_labels('t10k-labels-idx1-ubyte.gz', m).reshape(m,1)\n",
    "X-= int(np.mean(X))\n",
    "X/= int(np.std(X))\n",
    "test_data = np.hstack((X,y_dash))\n",
    "\n",
    "\n",
    "m =50000\n",
    "X = extract_data('train-images-idx3-ubyte.gz', m, IMG_WIDTH)\n",
    "y_dash = extract_labels('train-labels-idx1-ubyte.gz', m).reshape(m,1)\n",
    "print np.mean(X), np.std(X)\n",
    "X-= int(np.mean(X))\n",
    "X/= int(np.std(X))\n",
    "train_data = np.hstack((X,y_dash))"
   ]
  },
  {
   "cell_type": "code",
   "execution_count": 25,
   "id": "changed-chile",
   "metadata": {},
   "outputs": [],
   "source": [
    "np.random.seed(0)\n",
    "np.random.shuffle(train_data)"
   ]
  },
  {
   "cell_type": "code",
   "execution_count": 26,
   "id": "boxed-timber",
   "metadata": {},
   "outputs": [
    {
     "name": "stdout",
     "output_type": "stream",
     "text": [
      "Learning Rate:0.01, Batch Size:1\n"
     ]
    }
   ],
   "source": [
    "NUM_IMAGES = train_data.shape[0]\n",
    "\n",
    "## Initializing all the parameters\n",
    "filt1 = {}\n",
    "filt2 = {}\n",
    "bias1 = {}\n",
    "bias2 = {}\n",
    "for i in range(0,NUM_FILT1):\n",
    "\tfilt1[i] = initialise_param_lecun_normal(FILTER_SIZE, IMG_DEPTH, scale=1.0, distribution='normal')\n",
    "\tbias1[i] = 0\n",
    "\t# v1[i] = 0\n",
    "for i in range(0,NUM_FILT2):\n",
    "\tfilt2[i] = initialise_param_lecun_normal(FILTER_SIZE, NUM_FILT1, scale=1.0, distribution='normal')\n",
    "\tbias2[i] = 0\n",
    "\t# v2[i] = 0\n",
    "w1 = IMG_WIDTH-FILTER_SIZE+1\n",
    "w2 = w1-FILTER_SIZE+1\n",
    "theta3 = initialize_theta(NUM_OUTPUT, (w2/2)*(w2/2)*NUM_FILT2)\n",
    "\n",
    "bias3 = np.zeros((NUM_OUTPUT,1))\n",
    "cost = []\n",
    "acc = []\n",
    "# pickle_in = open(PICKLE_FILE, 'rb')\n",
    "# out = pickle.load(pickle_in)\n",
    "\n",
    "# [filt1, filt2, bias1, bias2, theta3, bias3, cost, acc] = out\n",
    "\n",
    "\n",
    "print(\"Learning Rate:\"+str(LEARNING_RATE)+\", Batch Size:\"+str(BATCH_SIZE))"
   ]
  },
  {
   "cell_type": "code",
   "execution_count": 19,
   "id": "interested-circus",
   "metadata": {},
   "outputs": [
    {
     "name": "stdout",
     "output_type": "stream",
     "text": [
      "1\n",
      "Epoch:0.0% Of 1/2, Cost:[2.23286043], B.Acc:0.0, E.Acc:0.0\n",
      "########  3Hrs 41Mins 4Secs remaining  ########\n",
      "1\n",
      "Epoch:0.0% Of 2/2, Cost:[0.], B.Acc:100.0, E.Acc:0.0\n",
      "########  1Hrs 51Mins 31Secs remaining  ########\n"
     ]
    }
   ],
   "source": [
    "for epoch in range(0,NUM_EPOCHS):\n",
    "\tbatches = [train_data[k:k + BATCH_SIZE] for k in xrange(0, NUM_IMAGES, BATCH_SIZE)]\n",
    "\tx=0\n",
    "\tfor batch in batches:\n",
    "\t\tstime = time.time()\n",
    "\t\tprint(len(batch))\n",
    "\t\t# LEARNING_RATE =  LEARNING_RATE/(1+epoch/10.0)\n",
    "\t\tout = momentumGradDescent(batch, LEARNING_RATE, IMG_WIDTH, IMG_DEPTH, MU, filt1, filt2, bias1, bias2, theta3, bias3, cost, acc, order = 'n',path = 'b')\n",
    "\t\t[filt1, filt2, bias1, bias2, theta3, bias3, cost, acc] = out\n",
    "\t\tepoch_acc = round(np.sum(acc[epoch*NUM_IMAGES/BATCH_SIZE:])/(x+1),2)\n",
    "\t\t\n",
    "\t\tper = float(x+1)/len(batches)*100\n",
    "\t\tprint(\"Epoch:\"+str(round(per,2))+\"% Of \"+str(epoch+1)+\"/\"+str(NUM_EPOCHS)+\", Cost:\"+str(cost[-1])+\", B.Acc:\"+str(acc[-1]*100)+\", E.Acc:\"+str(epoch_acc))\n",
    "\t\t\n",
    "\t\tftime = time.time()\n",
    "\t\tdeltime = ftime-stime\n",
    "\t\tremtime = (len(batches)-x-1)*deltime+deltime*len(batches)*(NUM_EPOCHS-epoch-1)\n",
    "\t\tprintTime(remtime)\n",
    "\t\tx+=1\n",
    "\t\tbreak        "
   ]
  },
  {
   "cell_type": "code",
   "execution_count": 21,
   "id": "quality-theory",
   "metadata": {},
   "outputs": [
    {
     "data": {
      "text/plain": [
       "{0: array([[[ 0.35301127,  0.08017187,  0.19583711,  0.44830023,\n",
       "           0.37349178],\n",
       "         [-0.19552592,  0.18982603, -0.03029294, -0.0205884 ,\n",
       "           0.08205764],\n",
       "         [ 0.02864477,  0.29076107,  0.152389  ,  0.02439906,\n",
       "           0.08850514],\n",
       "         [ 0.06644242,  0.29879034, -0.04087093,  0.06294114,\n",
       "          -0.17061162],\n",
       "         [-0.51081215,  0.13071095,  0.17323002, -0.14799804,\n",
       "           0.45423048]]]),\n",
       " 1: array([[[ 0.35306768,  0.0802273 ,  0.19577066,  0.44827473,\n",
       "           0.37364636],\n",
       "         [-0.19551085,  0.1899598 , -0.03026293, -0.02068815,\n",
       "           0.08208163],\n",
       "         [ 0.02877793,  0.29080847,  0.15219261,  0.02398728,\n",
       "           0.08832142],\n",
       "         [ 0.06680108,  0.29899763, -0.04124108,  0.06228763,\n",
       "          -0.17123438],\n",
       "         [-0.51034343,  0.13072335,  0.17269224, -0.14877439,\n",
       "           0.45357577]]]),\n",
       " 2: array([[[ 0.35283046,  0.08019977,  0.19593914,  0.44824944,\n",
       "           0.37350892],\n",
       "         [-0.19533533,  0.19018372, -0.0299722 , -0.02050666,\n",
       "           0.08211366],\n",
       "         [ 0.02881744,  0.29084798,  0.15233716,  0.02423793,\n",
       "           0.08862552],\n",
       "         [ 0.0667176 ,  0.29881366, -0.04095967,  0.06233021,\n",
       "          -0.17125554],\n",
       "         [-0.51059506,  0.13063597,  0.17265546, -0.14894961,\n",
       "           0.45333366]]]),\n",
       " 3: array([[[ 0.35279   ,  0.07983119,  0.1954856 ,  0.44802197,\n",
       "           0.37332799],\n",
       "         [-0.19551419,  0.1898989 , -0.03019451, -0.02050352,\n",
       "           0.08210195],\n",
       "         [ 0.02876437,  0.29087556,  0.15267123,  0.02464737,\n",
       "           0.08907425],\n",
       "         [ 0.06687695,  0.29924695, -0.04047317,  0.06336198,\n",
       "          -0.17020043],\n",
       "         [-0.5103365 ,  0.13090302,  0.17347859, -0.14779282,\n",
       "           0.45453807]]]),\n",
       " 4: array([[[ 0.35258014,  0.07958102,  0.1953017 ,  0.448019  ,\n",
       "           0.373531  ],\n",
       "         [-0.19572441,  0.18964037, -0.03073178, -0.02084452,\n",
       "           0.08219348],\n",
       "         [ 0.02856543,  0.29051374,  0.15200523,  0.02462697,\n",
       "           0.08940132],\n",
       "         [ 0.06667862,  0.29867266, -0.04097734,  0.06331054,\n",
       "          -0.16995213],\n",
       "         [-0.51066556,  0.13076742,  0.17329889, -0.14742156,\n",
       "           0.45500811]]]),\n",
       " 5: array([[[ 0.35287392,  0.07996319,  0.19577758,  0.44822764,\n",
       "           0.37366936],\n",
       "         [-0.19556393,  0.18996676, -0.03031535, -0.02067977,\n",
       "           0.08205359],\n",
       "         [ 0.02876139,  0.29072416,  0.15231506,  0.02427473,\n",
       "           0.08891159],\n",
       "         [ 0.06670283,  0.29893132, -0.04097496,  0.06272036,\n",
       "          -0.17076095],\n",
       "         [-0.51050703,  0.13082914,  0.173018  , -0.14830237,\n",
       "           0.45410842]]]),\n",
       " 6: array([[[ 0.35282464,  0.08000023,  0.19570446,  0.44818317,\n",
       "           0.373358  ],\n",
       "         [-0.19547842,  0.19005234, -0.03017241, -0.02077955,\n",
       "           0.08189589],\n",
       "         [ 0.02872392,  0.29087428,  0.15229207,  0.02427822,\n",
       "           0.08869497],\n",
       "         [ 0.06682204,  0.29899779, -0.04097839,  0.062593  ,\n",
       "          -0.17089653],\n",
       "         [-0.51060029,  0.13067931,  0.17278963, -0.14845512,\n",
       "           0.45391298]]]),\n",
       " 7: array([[[ 0.35284133,  0.08014069,  0.19599435,  0.44835216,\n",
       "           0.37351635],\n",
       "         [-0.19512344,  0.19037304, -0.02989696, -0.02022599,\n",
       "           0.08266468],\n",
       "         [ 0.02914146,  0.291187  ,  0.15257382,  0.02480388,\n",
       "           0.08909314],\n",
       "         [ 0.06700167,  0.29899495, -0.04062289,  0.06306572,\n",
       "          -0.17074563],\n",
       "         [-0.51052158,  0.13087726,  0.17328497, -0.14836732,\n",
       "           0.45339155]]])}"
      ]
     },
     "execution_count": 21,
     "metadata": {},
     "output_type": "execute_result"
    }
   ],
   "source": [
    "filt1"
   ]
  },
  {
   "cell_type": "code",
   "execution_count": 20,
   "id": "specified-veteran",
   "metadata": {},
   "outputs": [
    {
     "data": {
      "text/plain": [
       "{0: array([[[ 0.35301127,  0.08017187,  0.19583711,  0.44830023,\n",
       "           0.37349178],\n",
       "         [-0.19552592,  0.18982603, -0.03029294, -0.0205884 ,\n",
       "           0.08205764],\n",
       "         [ 0.02864477,  0.29076107,  0.152389  ,  0.02439906,\n",
       "           0.08850514],\n",
       "         [ 0.06644242,  0.29879034, -0.04087093,  0.06294114,\n",
       "          -0.17061162],\n",
       "         [-0.51081215,  0.13071095,  0.17323002, -0.14799804,\n",
       "           0.45423048]]]),\n",
       " 1: array([[[ 0.35306768,  0.0802273 ,  0.19577066,  0.44827473,\n",
       "           0.37364636],\n",
       "         [-0.19551085,  0.1899598 , -0.03026293, -0.02068815,\n",
       "           0.08208163],\n",
       "         [ 0.02877793,  0.29080847,  0.15219261,  0.02398728,\n",
       "           0.08832142],\n",
       "         [ 0.06680108,  0.29899763, -0.04124108,  0.06228763,\n",
       "          -0.17123438],\n",
       "         [-0.51034343,  0.13072335,  0.17269224, -0.14877439,\n",
       "           0.45357577]]]),\n",
       " 2: array([[[ 0.35283046,  0.08019977,  0.19593914,  0.44824944,\n",
       "           0.37350892],\n",
       "         [-0.19533533,  0.19018372, -0.0299722 , -0.02050666,\n",
       "           0.08211366],\n",
       "         [ 0.02881744,  0.29084798,  0.15233716,  0.02423793,\n",
       "           0.08862552],\n",
       "         [ 0.0667176 ,  0.29881366, -0.04095967,  0.06233021,\n",
       "          -0.17125554],\n",
       "         [-0.51059506,  0.13063597,  0.17265546, -0.14894961,\n",
       "           0.45333366]]]),\n",
       " 3: array([[[ 0.35279   ,  0.07983119,  0.1954856 ,  0.44802197,\n",
       "           0.37332799],\n",
       "         [-0.19551419,  0.1898989 , -0.03019451, -0.02050352,\n",
       "           0.08210195],\n",
       "         [ 0.02876437,  0.29087556,  0.15267123,  0.02464737,\n",
       "           0.08907425],\n",
       "         [ 0.06687695,  0.29924695, -0.04047317,  0.06336198,\n",
       "          -0.17020043],\n",
       "         [-0.5103365 ,  0.13090302,  0.17347859, -0.14779282,\n",
       "           0.45453807]]]),\n",
       " 4: array([[[ 0.35258014,  0.07958102,  0.1953017 ,  0.448019  ,\n",
       "           0.373531  ],\n",
       "         [-0.19572441,  0.18964037, -0.03073178, -0.02084452,\n",
       "           0.08219348],\n",
       "         [ 0.02856543,  0.29051374,  0.15200523,  0.02462697,\n",
       "           0.08940132],\n",
       "         [ 0.06667862,  0.29867266, -0.04097734,  0.06331054,\n",
       "          -0.16995213],\n",
       "         [-0.51066556,  0.13076742,  0.17329889, -0.14742156,\n",
       "           0.45500811]]]),\n",
       " 5: array([[[ 0.35287392,  0.07996319,  0.19577758,  0.44822764,\n",
       "           0.37366936],\n",
       "         [-0.19556393,  0.18996676, -0.03031535, -0.02067977,\n",
       "           0.08205359],\n",
       "         [ 0.02876139,  0.29072416,  0.15231506,  0.02427473,\n",
       "           0.08891159],\n",
       "         [ 0.06670283,  0.29893132, -0.04097496,  0.06272036,\n",
       "          -0.17076095],\n",
       "         [-0.51050703,  0.13082914,  0.173018  , -0.14830237,\n",
       "           0.45410842]]]),\n",
       " 6: array([[[ 0.35282464,  0.08000023,  0.19570446,  0.44818317,\n",
       "           0.373358  ],\n",
       "         [-0.19547842,  0.19005234, -0.03017241, -0.02077955,\n",
       "           0.08189589],\n",
       "         [ 0.02872392,  0.29087428,  0.15229207,  0.02427822,\n",
       "           0.08869497],\n",
       "         [ 0.06682204,  0.29899779, -0.04097839,  0.062593  ,\n",
       "          -0.17089653],\n",
       "         [-0.51060029,  0.13067931,  0.17278963, -0.14845512,\n",
       "           0.45391298]]]),\n",
       " 7: array([[[ 0.35284133,  0.08014069,  0.19599435,  0.44835216,\n",
       "           0.37351635],\n",
       "         [-0.19512344,  0.19037304, -0.02989696, -0.02022599,\n",
       "           0.08266468],\n",
       "         [ 0.02914146,  0.291187  ,  0.15257382,  0.02480388,\n",
       "           0.08909314],\n",
       "         [ 0.06700167,  0.29899495, -0.04062289,  0.06306572,\n",
       "          -0.17074563],\n",
       "         [-0.51052158,  0.13087726,  0.17328497, -0.14836732,\n",
       "           0.45339155]]])}"
      ]
     },
     "execution_count": 20,
     "metadata": {},
     "output_type": "execute_result"
    }
   ],
   "source": [
    "filt1"
   ]
  },
  {
   "cell_type": "code",
   "execution_count": 27,
   "id": "intensive-bernard",
   "metadata": {},
   "outputs": [
    {
     "name": "stdout",
     "output_type": "stream",
     "text": [
      "Epoch:0.0% Of 1/2, Cost:[2.23286043], B.Acc:0.0, E.Acc:0.0\n",
      "########  5Hrs 13Mins 46Secs remaining  ########\n",
      "Epoch:0.0% Of 2/2, Cost:[0.], B.Acc:100.0, E.Acc:0.0\n",
      "########  2Hrs 34Mins 31Secs remaining  ########\n"
     ]
    }
   ],
   "source": [
    "for epoch in range(0,NUM_EPOCHS):\n",
    "\tbatches = [train_data[k:k + BATCH_SIZE] for k in xrange(0, NUM_IMAGES, BATCH_SIZE)]\n",
    "\tx=0\n",
    "\tfor batch in batches:\n",
    "\t\tstime = time.time()\n",
    "\t\t# LEARNING_RATE =  LEARNING_RATE/(1+epoch/10.0)\n",
    "\t\tout = momentumGradDescent(batch, LEARNING_RATE, IMG_WIDTH, IMG_DEPTH, MU, filt1, filt2, bias1, bias2, theta3, bias3, cost, acc, order = 'a',path = 'b')\n",
    "\t\t[filt1, filt2, bias1, bias2, theta3, bias3, cost, acc] = out\n",
    "\t\tepoch_acc = round(np.sum(acc[epoch*NUM_IMAGES/BATCH_SIZE:])/(x+1),2)\n",
    "\t\t\n",
    "\t\tper = float(x+1)/len(batches)*100\n",
    "\t\tprint(\"Epoch:\"+str(round(per,2))+\"% Of \"+str(epoch+1)+\"/\"+str(NUM_EPOCHS)+\", Cost:\"+str(cost[-1])+\", B.Acc:\"+str(acc[-1]*100)+\", E.Acc:\"+str(epoch_acc))\n",
    "\t\t\n",
    "\t\tftime = time.time()\n",
    "\t\tdeltime = ftime-stime\n",
    "\t\tremtime = (len(batches)-x-1)*deltime+deltime*len(batches)*(NUM_EPOCHS-epoch-1)\n",
    "\t\tprintTime(remtime)\n",
    "\t\tx+=1\n",
    "\t\tbreak"
   ]
  },
  {
   "cell_type": "code",
   "execution_count": 28,
   "id": "animated-middle",
   "metadata": {},
   "outputs": [
    {
     "data": {
      "text/plain": [
       "{0: array([[[ 0.35301127,  0.08017187,  0.19583711,  0.44830023,\n",
       "           0.37349178],\n",
       "         [-0.19552592,  0.18982603, -0.03029294, -0.0205884 ,\n",
       "           0.08205764],\n",
       "         [ 0.02864477,  0.29076107,  0.152389  ,  0.02439906,\n",
       "           0.08850514],\n",
       "         [ 0.06644242,  0.29879034, -0.04087093,  0.06294114,\n",
       "          -0.17061162],\n",
       "         [-0.51081215,  0.13071095,  0.17323002, -0.14799804,\n",
       "           0.45423048]]]),\n",
       " 1: array([[[ 0.35306768,  0.0802273 ,  0.19577066,  0.44827473,\n",
       "           0.37364636],\n",
       "         [-0.19551085,  0.1899598 , -0.03026293, -0.02068815,\n",
       "           0.08208163],\n",
       "         [ 0.02877793,  0.29080847,  0.15219261,  0.02398728,\n",
       "           0.08832142],\n",
       "         [ 0.06680108,  0.29899763, -0.04124108,  0.06228763,\n",
       "          -0.17123438],\n",
       "         [-0.51034343,  0.13072335,  0.17269224, -0.14877439,\n",
       "           0.45357577]]]),\n",
       " 2: array([[[ 0.35283046,  0.08019977,  0.19593914,  0.44824944,\n",
       "           0.37350892],\n",
       "         [-0.19533533,  0.19018372, -0.0299722 , -0.02050666,\n",
       "           0.08211366],\n",
       "         [ 0.02881744,  0.29084798,  0.15233716,  0.02423793,\n",
       "           0.08862552],\n",
       "         [ 0.0667176 ,  0.29881366, -0.04095967,  0.06233021,\n",
       "          -0.17125554],\n",
       "         [-0.51059506,  0.13063597,  0.17265546, -0.14894961,\n",
       "           0.45333366]]]),\n",
       " 3: array([[[ 0.35279   ,  0.07983119,  0.1954856 ,  0.44802197,\n",
       "           0.37332799],\n",
       "         [-0.19551419,  0.1898989 , -0.03019451, -0.02050352,\n",
       "           0.08210195],\n",
       "         [ 0.02876437,  0.29087556,  0.15267123,  0.02464737,\n",
       "           0.08907425],\n",
       "         [ 0.06687695,  0.29924695, -0.04047317,  0.06336198,\n",
       "          -0.17020043],\n",
       "         [-0.5103365 ,  0.13090302,  0.17347859, -0.14779282,\n",
       "           0.45453807]]]),\n",
       " 4: array([[[ 0.35258014,  0.07958102,  0.1953017 ,  0.448019  ,\n",
       "           0.373531  ],\n",
       "         [-0.19572441,  0.18964037, -0.03073178, -0.02084452,\n",
       "           0.08219348],\n",
       "         [ 0.02856543,  0.29051374,  0.15200523,  0.02462697,\n",
       "           0.08940132],\n",
       "         [ 0.06667862,  0.29867266, -0.04097734,  0.06331054,\n",
       "          -0.16995213],\n",
       "         [-0.51066556,  0.13076742,  0.17329889, -0.14742156,\n",
       "           0.45500811]]]),\n",
       " 5: array([[[ 0.35287392,  0.07996319,  0.19577758,  0.44822764,\n",
       "           0.37366936],\n",
       "         [-0.19556393,  0.18996676, -0.03031535, -0.02067977,\n",
       "           0.08205359],\n",
       "         [ 0.02876139,  0.29072416,  0.15231506,  0.02427473,\n",
       "           0.08891159],\n",
       "         [ 0.06670283,  0.29893132, -0.04097496,  0.06272036,\n",
       "          -0.17076095],\n",
       "         [-0.51050703,  0.13082914,  0.173018  , -0.14830237,\n",
       "           0.45410842]]]),\n",
       " 6: array([[[ 0.35282464,  0.08000023,  0.19570446,  0.44818317,\n",
       "           0.373358  ],\n",
       "         [-0.19547842,  0.19005234, -0.03017241, -0.02077955,\n",
       "           0.08189589],\n",
       "         [ 0.02872392,  0.29087428,  0.15229207,  0.02427822,\n",
       "           0.08869497],\n",
       "         [ 0.06682204,  0.29899779, -0.04097839,  0.062593  ,\n",
       "          -0.17089653],\n",
       "         [-0.51060029,  0.13067931,  0.17278963, -0.14845512,\n",
       "           0.45391298]]]),\n",
       " 7: array([[[ 0.35284133,  0.08014069,  0.19599435,  0.44835216,\n",
       "           0.37351635],\n",
       "         [-0.19512344,  0.19037304, -0.02989696, -0.02022599,\n",
       "           0.08266468],\n",
       "         [ 0.02914146,  0.291187  ,  0.15257382,  0.02480388,\n",
       "           0.08909314],\n",
       "         [ 0.06700167,  0.29899495, -0.04062289,  0.06306572,\n",
       "          -0.17074563],\n",
       "         [-0.51052158,  0.13087726,  0.17328497, -0.14836732,\n",
       "           0.45339155]]])}"
      ]
     },
     "execution_count": 28,
     "metadata": {},
     "output_type": "execute_result"
    }
   ],
   "source": [
    "filt1"
   ]
  },
  {
   "cell_type": "code",
   "execution_count": null,
   "id": "extreme-designation",
   "metadata": {},
   "outputs": [],
   "source": []
  },
  {
   "cell_type": "code",
   "execution_count": null,
   "id": "native-storage",
   "metadata": {},
   "outputs": [],
   "source": []
  },
  {
   "cell_type": "code",
   "execution_count": null,
   "id": "annual-thousand",
   "metadata": {},
   "outputs": [],
   "source": []
  },
  {
   "cell_type": "code",
   "execution_count": null,
   "id": "impressive-terrace",
   "metadata": {},
   "outputs": [],
   "source": []
  },
  {
   "cell_type": "code",
   "execution_count": null,
   "id": "american-profile",
   "metadata": {},
   "outputs": [],
   "source": []
  },
  {
   "cell_type": "code",
   "execution_count": null,
   "id": "dying-gardening",
   "metadata": {},
   "outputs": [],
   "source": []
  },
  {
   "cell_type": "code",
   "execution_count": null,
   "id": "architectural-green",
   "metadata": {},
   "outputs": [],
   "source": [
    "A = np.array([[[1, 3, 2, 7,1],\n",
    "           [2, 4, 1, 3,1],\n",
    "           [6, 1, 2, 3,1],[6, 1, 2, 3,1],[2, 4, 7, 4,1]],[[1, 3, 2, 7,1],\n",
    "           [2, 4, 1, 3,1],\n",
    "           [6, 1, 2, 3,1],[6, 1, 2, 3,1],[2, 4, 7, 4,1]]])"
   ]
  },
  {
   "cell_type": "code",
   "execution_count": null,
   "id": "underlying-picking",
   "metadata": {},
   "outputs": [],
   "source": [
    "A.shape"
   ]
  },
  {
   "cell_type": "code",
   "execution_count": null,
   "id": "diagnostic-teaching",
   "metadata": {},
   "outputs": [],
   "source": [
    "B = np.array([[[2, 2, 1, 5,1],\n",
    "           [1, 3, 1, 2,1],\n",
    "           [2, 4, 7, 4,1],\n",
    "           [2, 4, 7, 4,1],[2, 4, 7, 4,1]],[[2, 2, 1, 5,1],\n",
    "           [1, 3, 1, 2,1],\n",
    "           [2, 4, 7, 4,1],\n",
    "           [2, 4, 7, 4,1],[2, 4, 7, 4,1]]])"
   ]
  },
  {
   "cell_type": "code",
   "execution_count": null,
   "id": "eight-concept",
   "metadata": {},
   "outputs": [],
   "source": [
    "B.shape"
   ]
  },
  {
   "cell_type": "code",
   "execution_count": null,
   "id": "french-celebrity",
   "metadata": {},
   "outputs": [],
   "source": [
    "p = []"
   ]
  },
  {
   "cell_type": "code",
   "execution_count": null,
   "id": "opening-prospect",
   "metadata": {},
   "outputs": [],
   "source": [
    "p.append(A)"
   ]
  },
  {
   "cell_type": "code",
   "execution_count": null,
   "id": "comprehensive-canal",
   "metadata": {},
   "outputs": [],
   "source": [
    "p.append(B)"
   ]
  },
  {
   "cell_type": "code",
   "execution_count": null,
   "id": "residential-mixer",
   "metadata": {},
   "outputs": [],
   "source": [
    "p[0].shape"
   ]
  },
  {
   "cell_type": "code",
   "execution_count": null,
   "id": "assumed-composer",
   "metadata": {},
   "outputs": [],
   "source": [
    "p"
   ]
  },
  {
   "cell_type": "code",
   "execution_count": null,
   "id": "married-edinburgh",
   "metadata": {},
   "outputs": [],
   "source": [
    "np.stack(p, axis = 1).shape"
   ]
  },
  {
   "cell_type": "code",
   "execution_count": null,
   "id": "orange-hepatitis",
   "metadata": {},
   "outputs": [],
   "source": [
    "np.stack(p, axis = 1)[0].shape"
   ]
  },
  {
   "cell_type": "code",
   "execution_count": null,
   "id": "burning-longer",
   "metadata": {},
   "outputs": [],
   "source": [
    "np.stack(np.stack(p, axis = 1)[0], axis = -1)"
   ]
  },
  {
   "cell_type": "code",
   "execution_count": null,
   "id": "demonstrated-traveler",
   "metadata": {},
   "outputs": [],
   "source": [
    "np.stack(np.stack(p, axis = 1)[0], axis = -1).shape"
   ]
  },
  {
   "cell_type": "code",
   "execution_count": null,
   "id": "photographic-snake",
   "metadata": {},
   "outputs": [],
   "source": [
    "np.sort(np.stack(np.stack(p, axis = 1)[0], axis=-1),axis=2)"
   ]
  },
  {
   "cell_type": "code",
   "execution_count": null,
   "id": "radical-casino",
   "metadata": {},
   "outputs": [],
   "source": [
    "np.sum(np.sort(np.stack(np.stack(p, axis = 1)[0], axis=-1),axis=2),axis=2)"
   ]
  },
  {
   "cell_type": "code",
   "execution_count": null,
   "id": "alpine-blanket",
   "metadata": {},
   "outputs": [],
   "source": [
    "np.sort(np.stack(np.stack(p, axis = 1)[0], axis=-1),axis=2)[::-1]"
   ]
  },
  {
   "cell_type": "code",
   "execution_count": null,
   "id": "funny-ridge",
   "metadata": {},
   "outputs": [],
   "source": [
    "np.stack(np.stack(p, axis = 1)[0], axis=-1)"
   ]
  },
  {
   "cell_type": "code",
   "execution_count": null,
   "id": "enhanced-generator",
   "metadata": {},
   "outputs": [],
   "source": [
    "-np.sort(-np.stack(np.stack(p, axis = 1)[0], axis=-1),axis=2)"
   ]
  },
  {
   "cell_type": "code",
   "execution_count": null,
   "id": "headed-queue",
   "metadata": {},
   "outputs": [],
   "source": [
    "np.sum(np.sort(np.stack(np.stack(p, axis = 1)[0], axis=-1),axis=2)[::-1],axis=2)"
   ]
  },
  {
   "cell_type": "code",
   "execution_count": null,
   "id": "active-management",
   "metadata": {},
   "outputs": [],
   "source": [
    "G[0]"
   ]
  },
  {
   "cell_type": "code",
   "execution_count": null,
   "id": "rotary-shooting",
   "metadata": {},
   "outputs": [],
   "source": [
    "G = A + B"
   ]
  },
  {
   "cell_type": "code",
   "execution_count": null,
   "id": "chronic-coverage",
   "metadata": {},
   "outputs": [],
   "source": [
    "np.sum(np.sort(np.sum(np.sort(np.stack(C, axis=-1),axis=2),axis=2).flatten()))"
   ]
  }
 ],
 "metadata": {
  "kernelspec": {
   "display_name": "Python 2",
   "language": "python",
   "name": "python2"
  },
  "language_info": {
   "codemirror_mode": {
    "name": "ipython",
    "version": 2
   },
   "file_extension": ".py",
   "mimetype": "text/x-python",
   "name": "python",
   "nbconvert_exporter": "python",
   "pygments_lexer": "ipython2",
   "version": "2.7.12"
  }
 },
 "nbformat": 4,
 "nbformat_minor": 5
}
