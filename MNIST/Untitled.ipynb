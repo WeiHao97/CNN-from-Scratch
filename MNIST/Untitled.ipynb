{
 "cells": [
  {
   "cell_type": "code",
   "execution_count": 8,
   "id": "thick-addiction",
   "metadata": {},
   "outputs": [],
   "source": [
    "import numpy as np\n",
    "import scipy.io as sio\n",
    "import matplotlib.pyplot as plt\n",
    "from matplotlib import gridspec\n",
    "import pickle\n",
    "import time\n",
    "import random\n",
    "from convnet import *\n",
    "from remtime import *"
   ]
  },
  {
   "cell_type": "code",
   "execution_count": 9,
   "id": "surprised-olive",
   "metadata": {},
   "outputs": [],
   "source": [
    "## Hyperparameters\n",
    "NUM_OUTPUT = 10\n",
    "LEARNING_RATE = 0.01\t#learning rate\n",
    "IMG_WIDTH = 28\n",
    "IMG_DEPTH = 1\n",
    "FILTER_SIZE=5\n",
    "NUM_FILT1 = 8\n",
    "NUM_FILT2 = 8\n",
    "BATCH_SIZE = 20\n",
    "NUM_EPOCHS = 2\t # number of iterations\n",
    "MU = 0.95\n",
    "\n",
    "PICKLE_FILE = 'output.pickle'\n",
    "# PICKLE_FILE = 'trained.pickle'"
   ]
  },
  {
   "cell_type": "code",
   "execution_count": 10,
   "id": "musical-colonial",
   "metadata": {},
   "outputs": [
    {
     "name": "stdout",
     "output_type": "stream",
     "text": [
      "('Extracting', 't10k-images-idx3-ubyte.gz')\n",
      "('Extracting', 't10k-labels-idx1-ubyte.gz')\n",
      "('Extracting', 'train-images-idx3-ubyte.gz')\n",
      "('Extracting', 'train-labels-idx1-ubyte.gz')\n",
      "33.395157 78.66619\n"
     ]
    }
   ],
   "source": [
    "## Data extracting\n",
    "m =10000\n",
    "X = extract_data('t10k-images-idx3-ubyte.gz', m, IMG_WIDTH)\n",
    "y_dash = extract_labels('t10k-labels-idx1-ubyte.gz', m).reshape(m,1)\n",
    "X-= int(np.mean(X))\n",
    "X/= int(np.std(X))\n",
    "test_data = np.hstack((X,y_dash))\n",
    "\n",
    "\n",
    "m =50000\n",
    "X = extract_data('train-images-idx3-ubyte.gz', m, IMG_WIDTH)\n",
    "y_dash = extract_labels('train-labels-idx1-ubyte.gz', m).reshape(m,1)\n",
    "print np.mean(X), np.std(X)\n",
    "X-= int(np.mean(X))\n",
    "X/= int(np.std(X))\n",
    "train_data = np.hstack((X,y_dash))"
   ]
  },
  {
   "cell_type": "code",
   "execution_count": 11,
   "id": "interracial-gallery",
   "metadata": {},
   "outputs": [],
   "source": [
    "np.random.seed(0)\n",
    "np.random.shuffle(train_data)"
   ]
  },
  {
   "cell_type": "code",
   "execution_count": 12,
   "id": "assumed-closing",
   "metadata": {},
   "outputs": [
    {
     "name": "stdout",
     "output_type": "stream",
     "text": [
      "Learning Rate:0.01, Batch Size:20\n"
     ]
    }
   ],
   "source": [
    "NUM_IMAGES = train_data.shape[0]\n",
    "\n",
    "## Initializing all the parameters\n",
    "filt1 = {}\n",
    "filt2 = {}\n",
    "bias1 = {}\n",
    "bias2 = {}\n",
    "for i in range(0,NUM_FILT1):\n",
    "\tfilt1[i] = initialise_param_lecun_normal(FILTER_SIZE, IMG_DEPTH, scale=1.0, distribution='normal')\n",
    "\tbias1[i] = 0\n",
    "\t# v1[i] = 0\n",
    "for i in range(0,NUM_FILT2):\n",
    "\tfilt2[i] = initialise_param_lecun_normal(FILTER_SIZE, NUM_FILT1, scale=1.0, distribution='normal')\n",
    "\tbias2[i] = 0\n",
    "\t# v2[i] = 0\n",
    "w1 = IMG_WIDTH-FILTER_SIZE+1\n",
    "w2 = w1-FILTER_SIZE+1\n",
    "theta3 = initialize_theta(NUM_OUTPUT, (w2/2)*(w2/2)*NUM_FILT2)\n",
    "\n",
    "bias3 = np.zeros((NUM_OUTPUT,1))\n",
    "cost = []\n",
    "acc = []\n",
    "# pickle_in = open(PICKLE_FILE, 'rb')\n",
    "# out = pickle.load(pickle_in)\n",
    "\n",
    "# [filt1, filt2, bias1, bias2, theta3, bias3, cost, acc] = out\n",
    "\n",
    "\n",
    "print(\"Learning Rate:\"+str(LEARNING_RATE)+\", Batch Size:\"+str(BATCH_SIZE))"
   ]
  },
  {
   "cell_type": "code",
   "execution_count": 13,
   "id": "owned-christmas",
   "metadata": {},
   "outputs": [
    {
     "name": "stdout",
     "output_type": "stream",
     "text": [
      "Epoch:0.04% Of 1/2, Cost:[2.30456072], B.Acc:15.0, E.Acc:0.15\n",
      "########  4Hrs 0Mins 10Secs remaining  ########\n",
      "Epoch:0.04% Of 2/2, Cost:[2.25804369], B.Acc:40.0, E.Acc:0.0\n",
      "########  1Hrs 57Mins 49Secs remaining  ########\n"
     ]
    }
   ],
   "source": [
    "for epoch in range(0,NUM_EPOCHS):\n",
    "\tnp.random.shuffle(train_data)\n",
    "\tbatches = [train_data[k:k + BATCH_SIZE] for k in xrange(0, NUM_IMAGES, BATCH_SIZE)]\n",
    "\tx=0\n",
    "\tfor batch in batches:\n",
    "\t\tstime = time.time()\n",
    "\t\t# LEARNING_RATE =  LEARNING_RATE/(1+epoch/10.0)\n",
    "\t\tout = momentumGradDescent(batch, LEARNING_RATE, IMG_WIDTH, IMG_DEPTH, MU, filt1, filt2, bias1, bias2, theta3, bias3, cost, acc)\n",
    "\t\t[filt1, filt2, bias1, bias2, theta3, bias3, cost, acc] = out\n",
    "\t\tepoch_acc = round(np.sum(acc[epoch*NUM_IMAGES/BATCH_SIZE:])/(x+1),2)\n",
    "\t\t\n",
    "\t\tper = float(x+1)/len(batches)*100\n",
    "\t\tprint(\"Epoch:\"+str(round(per,2))+\"% Of \"+str(epoch+1)+\"/\"+str(NUM_EPOCHS)+\", Cost:\"+str(cost[-1])+\", B.Acc:\"+str(acc[-1]*100)+\", E.Acc:\"+str(epoch_acc))\n",
    "\t\t\n",
    "\t\tftime = time.time()\n",
    "\t\tdeltime = ftime-stime\n",
    "\t\tremtime = (len(batches)-x-1)*deltime+deltime*len(batches)*(NUM_EPOCHS-epoch-1)\n",
    "\t\tprintTime(remtime)\n",
    "\t\tx+=1\n",
    "\t\tbreak        "
   ]
  },
  {
   "cell_type": "code",
   "execution_count": 14,
   "id": "first-consistency",
   "metadata": {},
   "outputs": [
    {
     "data": {
      "text/plain": [
       "{0: array([[[-0.17131862,  0.37879949, -0.05013857, -0.21937741,\n",
       "          -0.0463314 ],\n",
       "         [-0.0229543 , -0.33805256,  0.26245713,  0.28832176,\n",
       "           0.0742174 ],\n",
       "         [-0.07656346,  0.08179235, -0.15878158,  0.20152868,\n",
       "           0.10219255],\n",
       "         [ 0.05497357,  0.24906777, -0.03146207,  0.04680861,\n",
       "           0.09697316],\n",
       "         [-0.04069121, -0.02762873,  0.04249851, -0.1925393 ,\n",
       "          -0.10053033]]]),\n",
       " 1: array([[[-0.02933309, -0.18582481,  0.02801612,  0.07503462,\n",
       "          -0.29916212],\n",
       "         [ 0.38951464,  0.43500253,  0.18296193,  0.09328617,\n",
       "          -0.17040057],\n",
       "         [ 0.21707925,  0.03855483, -0.24517895,  0.22986368,\n",
       "           0.15216646],\n",
       "         [-0.21165304,  0.0832059 , -0.12874004, -0.06481795,\n",
       "          -0.24102203],\n",
       "         [-0.32243273, -0.34496154, -0.08856004,  0.26336143,\n",
       "           0.36082849]]]),\n",
       " 2: array([[[ 0.01983577,  0.10727224,  0.3066765 ,  0.03141089,\n",
       "          -0.02572307],\n",
       "         [ 0.28612071,  0.09426569,  0.3686345 ,  0.02337458,\n",
       "           0.0074826 ],\n",
       "         [-0.06649597, -0.03339296,  0.27786371,  0.24668071,\n",
       "           0.04285981],\n",
       "         [ 0.40071807,  0.19826289,  0.21117671, -0.06548868,\n",
       "          -0.03181946],\n",
       "         [ 0.00943033, -0.40787705, -0.07043624,  0.18435865,\n",
       "           0.08667288]]]),\n",
       " 3: array([[[ 0.0714862 ,  0.14831905,  0.14161874,  0.04181955,\n",
       "           0.01473014],\n",
       "         [-0.08925808, -0.00528616,  0.01023588, -0.0561168 ,\n",
       "           0.0500762 ],\n",
       "         [-0.0840283 ,  0.08043371, -0.16337374,  0.04809275,\n",
       "           0.43172455],\n",
       "         [ 0.24220293,  0.21327437,  0.22663383,  0.13978287,\n",
       "           0.10507416],\n",
       "         [ 0.0160412 ,  0.11040323, -0.17178659,  0.18413696,\n",
       "           0.23258393]]]),\n",
       " 4: array([[[ 0.06023766, -0.16413576,  0.00168213, -0.07963362,\n",
       "           0.20870301],\n",
       "         [-0.01774238, -0.25728223, -0.19452041, -0.18022178,\n",
       "           0.04779121],\n",
       "         [-0.00986585,  0.04896104, -0.33901771,  0.18606233,\n",
       "          -0.04926425],\n",
       "         [ 0.23944895,  0.409228  ,  0.11256303, -0.19903729,\n",
       "          -0.04844232],\n",
       "         [ 0.07384199, -0.06339729, -0.04863623, -0.01650346,\n",
       "          -0.30099509]]]),\n",
       " 5: array([[[-0.1229201 , -0.17820853,  0.20872301, -0.10259282,\n",
       "           0.00738788],\n",
       "         [-0.11660661, -0.19863046,  0.09243437,  0.14298298,\n",
       "          -0.21495753],\n",
       "         [ 0.08709435, -0.13645569, -0.2708871 , -0.05053056,\n",
       "          -0.19564901],\n",
       "         [-0.15629398,  0.03170399, -0.04230616, -0.27550043,\n",
       "           0.12567209],\n",
       "         [ 0.14381528, -0.1748944 ,  0.18564315,  0.10006301,\n",
       "           0.37695403]]]),\n",
       " 6: array([[[-2.81555380e-01, -1.45574511e-01, -2.23563601e-01,\n",
       "           1.92443015e-01, -4.08902070e-02],\n",
       "         [-3.27781544e-01,  1.05400788e-01, -9.09855617e-02,\n",
       "           2.53465501e-01, -5.12327615e-01],\n",
       "         [-3.17197846e-05,  1.16462308e-01,  3.41104895e-01,\n",
       "          -3.06531606e-03,  7.54827005e-02],\n",
       "         [ 3.39602329e-01, -1.62401692e-01, -1.61206619e-01,\n",
       "          -1.48276709e-01,  3.50164776e-01],\n",
       "         [-3.39773521e-01, -5.57111366e-03,  2.94892597e-01,\n",
       "           2.32298100e-01,  1.43188276e-01]]]),\n",
       " 7: array([[[-0.26225329,  0.33091824, -0.30518535, -0.52334561,\n",
       "           0.02288162],\n",
       "         [ 0.02147887, -0.01105076,  0.27854007,  0.17029928,\n",
       "           0.02112751],\n",
       "         [ 0.18347209, -0.08588566, -0.13420053, -0.05244436,\n",
       "          -0.16701496],\n",
       "         [-0.11691826, -0.08130104, -0.13515956,  0.07863601,\n",
       "           0.23438948],\n",
       "         [-0.28428554,  0.27498644,  0.15847887,  0.02645755,\n",
       "           0.2118825 ]]])}"
      ]
     },
     "execution_count": 14,
     "metadata": {},
     "output_type": "execute_result"
    }
   ],
   "source": [
    "filt1"
   ]
  },
  {
   "cell_type": "code",
   "execution_count": null,
   "id": "greater-monitor",
   "metadata": {},
   "outputs": [],
   "source": []
  }
 ],
 "metadata": {
  "kernelspec": {
   "display_name": "Python 2",
   "language": "python",
   "name": "python2"
  },
  "language_info": {
   "codemirror_mode": {
    "name": "ipython",
    "version": 2
   },
   "file_extension": ".py",
   "mimetype": "text/x-python",
   "name": "python",
   "nbconvert_exporter": "python",
   "pygments_lexer": "ipython2",
   "version": "2.7.12"
  }
 },
 "nbformat": 4,
 "nbformat_minor": 5
}
